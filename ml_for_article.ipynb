{
 "cells": [
  {
   "cell_type": "markdown",
   "metadata": {},
   "source": [
    "# Подключаем библиотеки"
   ]
  },
  {
   "cell_type": "code",
   "execution_count": 75,
   "metadata": {},
   "outputs": [],
   "source": [
    "import xgboost as xgb\n",
    "import pandas as pd\n",
    "import numpy as np\n",
    "from geopy.distance import geodesic \n",
    "import math\n",
    "import os\n",
    "from sklearn.metrics import mean_absolute_error, r2_score, median_absolute_error\n",
    "from sklearn.model_selection import train_test_split\n",
    "from sklearn.ensemble import RandomForestRegressor\n",
    "from sklearn.externals import joblib\n",
    "from sklearn.preprocessing import OneHotEncoder, LabelEncoder\n",
    "import matplotlib.pyplot as plt\n",
    "import matplotlib\n",
    "%matplotlib inline\n",
    "%config InlineBackend.figure_format = 'retina' \n",
    "import seaborn as sns\n",
    "from datetime import datetime, date\n",
    "import warnings\n",
    "warnings.filterwarnings('ignore')\n",
    "os.environ['KMP_DUPLICATE_LIB_OK']='True' \n",
    "from sklearn.metrics import explained_variance_score\n",
    "import lightgbm as lgb"
   ]
  },
  {
   "cell_type": "markdown",
   "metadata": {},
   "source": [
    "# Объявляем функции"
   ]
  },
  {
   "cell_type": "code",
   "execution_count": 76,
   "metadata": {},
   "outputs": [],
   "source": [
    "def preprocess(dataframe):\n",
    "    \n",
    "    dataframe = dataframe.drop_duplicates('url', keep='last') #Удаляем дубликаты по признаку url и оставляем только последний из них\n",
    "    dataframe = dataframe.drop_duplicates('description', keep='last') #Удаляем дубликаты по признаку description\n",
    "    dataframe = dataframe.drop_duplicates(subset=['floorNumber', 'fullAddress', 'cianUserId'], keep='last') #Удаляем дубликаты по сочетанию признаков\n",
    "    dataframe = dataframe.drop_duplicates(subset=['price', 'fullAddress', 'cianUserId'], keep='last') #Удаляем дубликаты по сочетанию признаков\n",
    "    dataframe = dataframe.drop_duplicates(subset=['totalArea', 'fullAddress', 'phone'], keep='last') #Удаляем дубликаты по сочетанию признаков\n",
    "\n",
    "    dataframe['kitchenArea'] = dataframe['kitchenArea'].replace({'None':np.NaN})\n",
    "    dataframe.dropna(subset=['kitchenArea'],inplace=True)\n",
    "    \n",
    "    dataframe['totalArea'] = dataframe['totalArea'].str.replace(',', '.')\n",
    "    dataframe['totalArea'] = pd.to_numeric(dataframe['totalArea'])\n",
    "    \n",
    "    dataframe['kitchenArea'] = dataframe['kitchenArea'].str.replace(',', '.')\n",
    "    dataframe['kitchenArea'] = pd.to_numeric(dataframe['kitchenArea'])\n",
    "    \n",
    "\n",
    "    dataframe['priceMetr'] = dataframe['price']/dataframe['totalArea']\n",
    "    dataframe['latitude'] = pd.to_numeric(dataframe['latitude'])\n",
    "    dataframe['longitude'] = pd.to_numeric(dataframe['longitude'])\n",
    "\n",
    "    dataframe.dropna(subset=['wallsMaterial'],inplace=True)\n",
    "    dataframe.dropna(subset=['floorsTotal'],inplace=True)\n",
    "  \n",
    "    frame = dataframe.loc[0:,['wallsMaterial', \n",
    "                              'floorNumber', \n",
    "                              'floorsTotal', \n",
    "                              'totalArea', \n",
    "                              'kitchenArea',\n",
    "                              'priceMetr', \n",
    "                              'price',\n",
    "                              'latitude',\n",
    "                              'longitude'\n",
    "                              ]]\n",
    "    \n",
    "    return frame\n",
    "\n",
    "def get_azimuth(latitude, longitude):\n",
    " \n",
    "    rad = 6372795\n",
    "\n",
    "    llat1 = city_center_coordinates[0]\n",
    "    llong1 = city_center_coordinates[1]\n",
    "    llat2 = latitude\n",
    "    llong2 = longitude\n",
    "\n",
    "    lat1 = llat1*math.pi/180.\n",
    "    lat2 = llat2*math.pi/180.\n",
    "    long1 = llong1*math.pi/180.\n",
    "    long2 = llong2*math.pi/180.\n",
    "\n",
    "    cl1 = math.cos(lat1)\n",
    "    cl2 = math.cos(lat2)\n",
    "    sl1 = math.sin(lat1)\n",
    "    sl2 = math.sin(lat2)\n",
    "    delta = long2 - long1\n",
    "    cdelta = math.cos(delta)\n",
    "    sdelta = math.sin(delta)\n",
    "\n",
    "    y = math.sqrt(math.pow(cl2*sdelta,2)+math.pow(cl1*sl2-sl1*cl2*cdelta,2))\n",
    "    x = sl1*sl2+cl1*cl2*cdelta\n",
    "    ad = math.atan2(y,x)\n",
    "\n",
    "    x = (cl1*sl2) - (sl1*cl2*cdelta)\n",
    "    y = sdelta*cl2\n",
    "    z = math.degrees(math.atan(-y/x))\n",
    "\n",
    "    if (x < 0):\n",
    "        z = z+180.\n",
    "\n",
    "    z2 = (z+180.) % 360. - 180.\n",
    "    z2 = - math.radians(z2)\n",
    "    anglerad2 = z2 - ((2*math.pi)*math.floor((z2/(2*math.pi))) )\n",
    "    angledeg = (anglerad2*180.)/math.pi\n",
    "    \n",
    "    return round(angledeg, 2)\n",
    "\n",
    "\n",
    "def mean_absolute_percentage_error(y_true, y_pred): \n",
    "    y_true, y_pred = np.array(y_true), np.array(y_pred)\n",
    "    return np.mean(np.abs((y_true - y_pred) / y_true)) * 100\n",
    "\n",
    "def median_absolute_percentage_error(y_true, y_pred): \n",
    "    y_true, y_pred = np.array(y_true), np.array(y_pred)\n",
    "    return np.median(np.abs((y_true - y_pred) / y_true)) * 100\n",
    "\n",
    "def print_metrics(prediction, val_y):\n",
    "    val_mae = mean_absolute_error(val_y, prediction)\n",
    "    median_AE = median_absolute_error(val_y, prediction)\n",
    "    r2 = r2_score(val_y, prediction)\n",
    "\n",
    "    print('')\n",
    "    print('R^2: {:.4}'.format(r2))\n",
    "    print('')\n",
    "    print('Средняя абсолютная ошибка: {:.3} %'.format(mean_absolute_percentage_error(val_y, prediction)))\n",
    "    print('Медианная абсолютная ошибка: {:.3} %'.format(median_absolute_percentage_error(val_y, prediction)))"
   ]
  },
  {
   "cell_type": "markdown",
   "metadata": {},
   "source": [
    "# Загружаем датасет и делаем первичную обработку"
   ]
  },
  {
   "cell_type": "code",
   "execution_count": 77,
   "metadata": {},
   "outputs": [],
   "source": [
    "city_center_coordinates = [55.7522, 37.6156]\n",
    "\n",
    "file_path = './moscow_12.2019.csv'\n",
    "file_path_2 = './moscow_10.2019.csv'\n",
    "\n",
    "df = pd.read_csv(file_path)\n",
    "df2 = pd.read_csv(file_path_2)\n",
    "\n",
    "df = df.append(df2, ignore_index=True)\n",
    "\n",
    "df = preprocess(df)\n",
    "df['distance'] = list(map(lambda x, y: geodesic(city_center_coordinates, [x, y]).meters, df['latitude'], df['longitude']))\n",
    "df['azimuth'] = list(map(lambda x, y: get_azimuth(x, y), df['latitude'], df['longitude']))\n",
    "df = df.loc[(df['distance'] < 40000)]\n",
    "df = df.reset_index()"
   ]
  },
  {
   "cell_type": "markdown",
   "metadata": {},
   "source": [
    "# Удаляем выбросы"
   ]
  },
  {
   "cell_type": "code",
   "execution_count": 78,
   "metadata": {},
   "outputs": [],
   "source": [
    "first_quartile = df.quantile(q=0.25)\n",
    "third_quartile = df.quantile(q=0.75)\n",
    "IQR = third_quartile - first_quartile\n",
    "outliers = df[(df > (third_quartile + 1.5 * IQR)) | (df < (first_quartile - 1.5 * IQR))].count(axis=1)\n",
    "outliers.sort_values(axis=0, ascending=False, inplace=True)\n",
    "outliers = outliers.head(1000)\n",
    "df.drop(outliers.index, inplace=True)"
   ]
  },
  {
   "cell_type": "markdown",
   "metadata": {},
   "source": [
    "# Превращаем категорийные признаки в числовые"
   ]
  },
  {
   "cell_type": "code",
   "execution_count": null,
   "metadata": {},
   "outputs": [],
   "source": [
    "categorical_columns = df.columns[df.dtypes == 'object']\n",
    "labelencoder = LabelEncoder()\n",
    "for column in categorical_columns:\n",
    "    df[column] = labelencoder.fit_transform(df[column])\n",
    "df.info()"
   ]
  },
  {
   "cell_type": "markdown",
   "metadata": {},
   "source": [
    "# Создаем x и Y, разбиваем датасет на выборки"
   ]
  },
  {
   "cell_type": "code",
   "execution_count": 69,
   "metadata": {},
   "outputs": [],
   "source": [
    "y = df.priceMetr\n",
    "\n",
    "features = [\n",
    "            'wallsMaterial', \n",
    "            'floorNumber', \n",
    "            'floorsTotal', \n",
    "            'totalArea', \n",
    "            'kitchenArea',\n",
    "            'distance',\n",
    "            'azimuth'\n",
    "           ]\n",
    "\n",
    "X = df[features]\n",
    "\n",
    "train_X, val_X, train_y, val_y = train_test_split(X, y, random_state=1)"
   ]
  },
  {
   "cell_type": "markdown",
   "metadata": {},
   "source": [
    "# Модель XGBoost"
   ]
  },
  {
   "cell_type": "code",
   "execution_count": 70,
   "metadata": {},
   "outputs": [
    {
     "name": "stdout",
     "output_type": "stream",
     "text": [
      "\n",
      "R^2: 0.8099\n",
      "\n",
      "Средняя абсолютная ошибка: 8.52 %\n",
      "Медианная абсолютная ошибка: 5.87 %\n"
     ]
    }
   ],
   "source": [
    "xgb_model = xgb.XGBRegressor(objective ='reg:gamma', \n",
    "                        learning_rate = 0.05,\n",
    "                        max_depth = 12, \n",
    "                        n_estimators = 3000,\n",
    "                        nthread = 8,\n",
    "                        eval_metric = 'gamma-nloglik', \n",
    "                        )\n",
    "\n",
    "xgb_model.fit(train_X, train_y, )\n",
    "xgb_prediction = xgb_model.predict(val_X)\n",
    "\n",
    "print_metrics(xgb_prediction, val_y)"
   ]
  },
  {
   "cell_type": "markdown",
   "metadata": {},
   "source": [
    "# Модель Random forest"
   ]
  },
  {
   "cell_type": "code",
   "execution_count": 71,
   "metadata": {},
   "outputs": [
    {
     "name": "stdout",
     "output_type": "stream",
     "text": [
      "\n",
      "R^2: 0.7706\n",
      "\n",
      "Средняя абсолютная ошибка: 9.26 %\n",
      "Медианная абсолютная ошибка: 5.95 %\n"
     ]
    }
   ],
   "source": [
    "rf_model = RandomForestRegressor(n_estimators=500, \n",
    "                              n_jobs=-1,  \n",
    "                              bootstrap=False,\n",
    "                              criterion='mse',\n",
    "                              max_features=6,\n",
    "                              random_state=1)\n",
    "\n",
    "rf_model.fit(train_X, train_y)\n",
    "rf_prediction = rf_model.predict(val_X)\n",
    "\n",
    "print_metrics(rf_prediction, val_y)"
   ]
  },
  {
   "cell_type": "markdown",
   "metadata": {},
   "source": [
    "# Модель LightGBM"
   ]
  },
  {
   "cell_type": "code",
   "execution_count": 72,
   "metadata": {},
   "outputs": [
    {
     "name": "stdout",
     "output_type": "stream",
     "text": [
      "\n",
      "R^2: 0.8064\n",
      "\n",
      "Средняя абсолютная ошибка: 8.89 %\n",
      "Медианная абсолютная ошибка: 6.12 %\n"
     ]
    }
   ],
   "source": [
    "lgb_model = lgb.LGBMRegressor(\n",
    "                              objective='regression',\n",
    "                              num_leaves=200,\n",
    "                              learning_rate=0.05, \n",
    "                              n_estimators=2000,\n",
    "                              max_bin = 300, \n",
    "                              bagging_fraction = 0.9,\n",
    "                              bagging_freq = 70, \n",
    "                              feature_fraction_seed=5, \n",
    "                              bagging_seed=2,\n",
    "                              min_data_in_leaf = 2, \n",
    "                              boosting_type= 'gbdt',\n",
    "                             )\n",
    "\n",
    "lgb_model.fit(train_X, train_y)\n",
    "lgb_prediction = lgb_model.predict(val_X)\n",
    "\n",
    "print_metrics(lgb_prediction, val_y)"
   ]
  },
  {
   "cell_type": "markdown",
   "metadata": {},
   "source": [
    "# Усреднение предсказаний моделей"
   ]
  },
  {
   "cell_type": "code",
   "execution_count": 73,
   "metadata": {},
   "outputs": [
    {
     "name": "stdout",
     "output_type": "stream",
     "text": [
      "\n",
      "R^2: 0.8159\n",
      "\n",
      "Средняя абсолютная ошибка: 8.5 %\n",
      "Медианная абсолютная ошибка: 5.71 %\n"
     ]
    }
   ],
   "source": [
    "prediction = xgb_prediction * 0.34 + rf_prediction * 0.33 + lgb_prediction * 0.33\n",
    "print_metrics(prediction, val_y)"
   ]
  },
  {
   "cell_type": "markdown",
   "metadata": {},
   "source": [
    "# Изучаем важность признаков в Random forest"
   ]
  },
  {
   "cell_type": "code",
   "execution_count": 74,
   "metadata": {},
   "outputs": [
    {
     "name": "stdout",
     "output_type": "stream",
     "text": [
      "Feature ranking:\n",
      "1. distance (0.513762)\n",
      "2. azimuth (0.145762)\n",
      "3. kitchenArea (0.099131)\n",
      "4. totalArea (0.095307)\n",
      "5. floorsTotal (0.061219)\n",
      "6. wallsMaterial (0.051493)\n",
      "7. floorNumber (0.033325)\n"
     ]
    },
    {
     "data": {
      "image/png": "[encoded data removed]",
      "text/plain": [
       "<Figure size 432x288 with 1 Axes>"
      ]
     },
     "metadata": {
      "image/png": {
       "height": 263,
       "width": 372
      },
      "needs_background": "light"
     },
     "output_type": "display_data"
    }
   ],
   "source": [
    "importances = rf_model.feature_importances_\n",
    "std = np.std([tree.feature_importances_ for tree in rf_model.estimators_],\n",
    "             axis=0)\n",
    "indices = np.argsort(importances)[::-1]\n",
    "\n",
    "# Print the feature ranking\n",
    "print(\"Feature ranking:\")\n",
    "\n",
    "for f in range(X.shape[1]):\n",
    "    print(\"%d. %s (%f)\" % (f + 1, features[indices[f]], importances[indices[f]]))\n",
    "\n",
    "# Plot the feature importances of the forest\n",
    "plt.figure()\n",
    "plt.title(\"Важность признаков\")\n",
    "plt.bar(range(X.shape[1]), importances[indices],\n",
    "       color=\"g\", yerr=std[indices], align=\"center\")\n",
    "plt.xticks(range(X.shape[1]), indices)\n",
    "plt.xlim([-1, X.shape[1]])\n",
    "plt.show()"
   ]
  },
  {
   "cell_type": "code",
   "execution_count": null,
   "metadata": {},
   "outputs": [],
   "source": [
    "df['distance'].hist(bins = 100)"
   ]
  },
  {
   "cell_type": "code",
   "execution_count": null,
   "metadata": {},
   "outputs": [],
   "source": [
    "corr = df[features].corr()\n",
    "sns.heatmap(corr, \n",
    "            xticklabels=corr.columns.values,\n",
    "            yticklabels=corr.columns.values)"
   ]
  }
 ],
 "metadata": {
  "kernelspec": {
   "display_name": "Python 3",
   "language": "python",
   "name": "python3"
  },
  "language_info": {
   "codemirror_mode": {
    "name": "ipython",
    "version": 3
   },
   "file_extension": ".py",
   "mimetype": "text/x-python",
   "name": "python",
   "nbconvert_exporter": "python",
   "pygments_lexer": "ipython3",
   "version": "3.7.4"
  }
 },
 "nbformat": 4,
 "nbformat_minor": 4
}
